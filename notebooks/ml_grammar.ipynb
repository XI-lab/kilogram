{
 "metadata": {
  "name": "",
  "signature": "sha256:1bb0cfc1bf61f93a113f883ee047be5511ee023674e90495f079c5d09d416426"
 },
 "nbformat": 3,
 "nbformat_minor": 0,
 "worksheets": [
  {
   "cells": [
    {
     "cell_type": "markdown",
     "metadata": {},
     "source": [
      "<small><i>This notebook was put together by [Roman Prokofyev](http://prokofyev.ch)@[eXascale Infolab](http://exascale.info/). Source and license info is on [GitHub](https://github.com/dragoon/kilogram/).</i></small>"
     ]
    },
    {
     "cell_type": "markdown",
     "metadata": {},
     "source": [
      "<small>\n",
      "This notebook is a part of bigger tutorial on fixing grammatical edits.\n",
      "\n",
      "* [Part 1: Extracting edits from StackExchange Data](http://nbviewer.ipython.org/github/dragoon/dataset-utils/blob/master/notebooks/stackexchange_edit_extraction.ipynb)\n",
      "* [Part 2: Processing Google Book N-grams dataset](http://nbviewer.ipython.org/github/dragoon/kilogram/blob/master/notebooks/process_google_ngrams.ipynb)\n",
      "* [Part 3: Computing association measures between words](http://nbviewer.ipython.org/github/dragoon/kilogram/blob/master/notebooks/pmi_association_measures.ipynb)\n",
      "* [Part 4: Generic data analysis](http://nbviewer.ipython.org/github/dragoon/kilogram/blob/master/notebooks/data_analysis_generic.ipynb)\n",
      "* **[Part 5: Machine learning to fix grammar](http://nbviewer.ipython.org/github/dragoon/kilogram/blob/master/notebooks/ml_grammar.ipynb)**\n",
      "</small>"
     ]
    },
    {
     "cell_type": "markdown",
     "metadata": {},
     "source": [
      "# Prerequisites\n",
      "\n",
      "You will need to install the following python packages to run the notebook:\n",
      "\n",
      "* pip install scikit-learn"
     ]
    },
    {
     "cell_type": "code",
     "collapsed": false,
     "input": [
      "from __future__ import division\n",
      "import pandas as pd\n",
      "from sklearn.ensemble import ExtraTreesClassifier\n",
      "from sklearn.cross_validation import StratifiedShuffleSplit, ShuffleSplit\n",
      "from kilogram import NgramService\n",
      "from kilogram import EditNgram\n",
      "\n",
      "PREPS = set(open('../extra/preps.txt').read().split('\\n'))\n",
      "PREPS_SORTED = sorted(PREPS)\n",
      "NgramService.configure(PREPS_SORTED, mongo_host=('localhost', '27017'), hbase_host=('diufpc301', '9090'))\n",
      "ALLOWED_TYPES={1,2,3}"
     ],
     "language": "python",
     "metadata": {},
     "outputs": []
    },
    {
     "cell_type": "code",
     "collapsed": false,
     "input": [
      "from kilogram import extract_edits\n",
      "prep_edits = extract_edits('/home/roman/fce_edits.tsv', substitutions=PREPS)\n",
      "total_error = len([1 for x in prep_edits if x.is_error])\n",
      "print 'Total errors:', total_error"
     ],
     "language": "python",
     "metadata": {},
     "outputs": [
      {
       "output_type": "stream",
       "stream": "stdout",
       "text": [
        "Total edits extracted: 60097\n",
        "Total errors: 3046\n"
       ]
      }
     ],
     "prompt_number": 2
    },
    {
     "cell_type": "code",
     "collapsed": false,
     "input": [
      "from kilogram.edit import EditCollection\n",
      "collection = EditCollection(prep_edits)"
     ],
     "language": "python",
     "metadata": {},
     "outputs": [],
     "prompt_number": 3
    },
    {
     "cell_type": "code",
     "collapsed": false,
     "input": [
      "# QUICK HACK CONLL parser\n",
      "import re\n",
      "from kilogram.edit import Edit\n",
      "EDIT_RE = re.compile(r'\\(\\w+\\*/(\\w+)\\)')\n",
      "from kilogram.lang.tokenize import default_tokenize_func\n",
      "test_col = []\n",
      "conll_data = open('/home/roman/english_learners/data/conll-test.txt').read().splitlines()\n",
      "for line in conll_data:\n",
      "    tokens = default_tokenize_func(line, set('!\",:;<=>?[]{}.?'))\n",
      "    context = EDIT_RE.sub(r'\\1', ' '.join(tokens))\n",
      "    for i, token in enumerate(tokens):\n",
      "        if EDIT_RE.match(token):\n",
      "            edit1, edit2 = token[1:-1].split('*/')\n",
      "            test_col.append(Edit(edit1, edit2, context, context, (i, i+1), (i, i+1)))\n",
      "        elif token in PREPS:\n",
      "            test_col.append(Edit(token, token, context, context, (i, i+1), (i, i+1)))\n",
      "print 'Test collection size:', len(test_col)\n",
      "print 'Total errors:', len([1 for x in test_col if x.is_error])"
     ],
     "language": "python",
     "metadata": {},
     "outputs": [
      {
       "output_type": "stream",
       "stream": "stdout",
       "text": [
        "Test collection size: 2945\n",
        "Total errors: 152\n"
       ]
      }
     ],
     "prompt_number": 4
    },
    {
     "cell_type": "code",
     "collapsed": false,
     "input": [
      "import kilogram\n",
      "kilogram.DEBUG = False\n",
      "res = []\n",
      "for i in xrange(1):\n",
      "    train_data, train_labels, feature_names = collection.balance_features(PREPS, class1_k=1, class0_k=3046./60097)\n",
      "    clf = ExtraTreesClassifier(n_estimators=100, random_state=0)\n",
      "    print 'Fitting...'\n",
      "    clf.fit(train_data, train_labels)\n",
      "    print sorted(zip(list(clf.feature_importances_), feature_names), key=lambda x: x[0], reverse=True)\n",
      "    print 'Validating...'\n",
      "    score = collection.test_validation(PREPS, clf, test_col)\n",
      "    print score\n",
      "    res.append(score)\n",
      "print np.mean([x['f1'] for x in res]), np.std([x['f1'] for x in res])\n",
      "print np.mean([x['precision'] for x in res]), np.std([x['precision'] for x in res])\n",
      "print np.mean([x['recall'] for x in res]), np.std([x['recall'] for x in res])"
     ],
     "language": "python",
     "metadata": {},
     "outputs": [
      {
       "output_type": "stream",
       "stream": "stdout",
       "text": [
        "Balancing errors\n",
        "Generating features from raw data"
       ]
      },
      {
       "output_type": "stream",
       "stream": "stdout",
       "text": [
        "\n"
       ]
      },
      {
       "output_type": "stream",
       "stream": "stdout",
       "text": [
        "Started data loading: 11:50:43\n",
        "Finish data loading: 11:55:14"
       ]
      },
      {
       "output_type": "stream",
       "stream": "stdout",
       "text": [
        "\n",
        "Converting to numpy arrays\n",
        "(290913, 75)"
       ]
      },
      {
       "output_type": "stream",
       "stream": "stdout",
       "text": [
        "\n",
        "(290913,)\n",
        "('1st class', 5937)\n",
        "('2nd class', 284976)\n",
        "Fitting...\n",
        "[(0.2943948062429772, 'conf_matrix_score'), (0.19707400778849327, 'avg_pmi_3gram'), (0.10450089963759317, 'top_prep_count_3gram'), (0.054025650785146734, 'zero_ngram_rank'), (0.04949041637906415, 'avg_rank_position_0'), (0.040170625167652865, 'beside'), (0.036346796242064758, 'avg_rank_3gram'), (0.021792740705843611, 'VBprev'), (0.019085505957940847, 'about'), (0.018536271515870673, 'DTprev'), (0.014208891184451527, 'OTHERnext'), (0.014037785877504512, 'OTHERprev'), (0.013745451937195799, 'NNnext'), (0.012330876992227496, 'behind'), (0.010175238220278406, 'JJnext'), (0.010005752027701587, 'NNprev'), (0.0097124215492052305, 'VBnext'), (0.0092454582180951025, 'from'), (0.0090611960194673033, 'through'), (0.0076983514678287289, 'by'), (0.0063127394264130918, 'RBnext'), (0.0054072181697118592, 'JJprev'), (0.0050444250420088677, 'along'), (0.0045629317795945878, 'upon'), (0.0040439274579139707, 'absent'), (0.0030825371535487824, 'before'), (0.0023312625382383386, 'avg_rank_position_-1'), (0.0023115800071830516, 'except'), (0.0017896296742131662, 'despite'), (0.001781865061738775, 'RBprev'), (0.0017476872447785897, 'on'), (0.0014892539154968579, 'outside'), (0.0011584460439250681, 'DTnext'), (0.0011475550584547011, 'beyond'), (0.00098868777629722965, 'avg_rank_position_1'), (0.0009463099370787849, 'alongside'), (0.00090289974916946862, 'with'), (0.00084580782597071832, 'since'), (0.00082085952207362051, 'above'), (0.00077929144513856023, 'in'), (0.00062005221420831109, 'towards'), (0.00051293466063868562, 'amid'), (0.00050309700231336183, 'for'), (0.00048696485342185298, 'onto'), (0.0004438652722283669, 'after'), (0.00041418488733497606, 'at'), (0.00035348186870568578, 'until'), (0.00032199828647617703, 'besides'), (0.00029023643106304868, 'under'), (0.00028625559853387043, 'among'), (0.00027827868395394092, 'across'), (0.00027496763524796609, 'against'), (0.0002747105720379976, 'opposite'), (0.00024516721472914486, 'inside'), (0.00022041800975814398, 'over'), (0.00014973184938103692, 'than'), (0.00014619352663095019, 'during'), (0.00014501578748629665, 'to'), (0.00012593779906331062, 'around'), (0.00012232662105205852, 'toward'), (0.00011454155107564319, 'of'), (0.00010581259491180566, 'underneath'), (7.9426721250349993e-05, 'avg_rank_2gram'), (7.89816071735777e-05, 'avg_pmi_2gram'), (6.1622611203889448e-05, 'into'), (5.0735891043330186e-05, 'amongst'), (4.8263675311287137e-05, 'below'), (4.4425045074271968e-05, 'beneath'), (2.8708551714435277e-05, 'off'), (2.331796062116838e-05, 'but'), (1.4286270804107337e-05, 'between'), (0.0, 'has_zero_ngram_2_or_3'), (0.0, 'top_prep_count_2gram'), (0.0, 'PRprev'), (0.0, 'PRnext')]"
       ]
      },
      {
       "output_type": "stream",
       "stream": "stdout",
       "text": [
        "\n",
        "Validating...\n",
        "Total errors: 152\n",
        "{'f1': 0.019230769230769232, 'false': 775, 'min_split': 2, 'true_err': 9, 'precision': 0.011479591836734694, 'skips': 1046, 'false_err': 33, 'true': 1124, 'recall': 0.05921052631578947, 'depth': None, 'skips_err': 110, 'accuracy': 0.5918904686677199}"
       ]
      },
      {
       "output_type": "stream",
       "stream": "stdout",
       "text": [
        "\n",
        "Balancing errors\n",
        "Generating features from raw data"
       ]
      },
      {
       "output_type": "stream",
       "stream": "stdout",
       "text": [
        "\n"
       ]
      },
      {
       "output_type": "stream",
       "stream": "stdout",
       "text": [
        "Started data loading: 12:06:27\n",
        "Finish data loading: 12:09:45"
       ]
      },
      {
       "output_type": "stream",
       "stream": "stdout",
       "text": [
        "\n",
        "Converting to numpy arrays\n",
        "(290913, 75)"
       ]
      },
      {
       "output_type": "stream",
       "stream": "stdout",
       "text": [
        "\n",
        "(290913,)\n",
        "('1st class', 5937)\n",
        "('2nd class', 284976)\n",
        "Fitting...\n",
        "[(0.29673671732063384, 'conf_matrix_score'), (0.19578670715157298, 'avg_pmi_3gram'), (0.10731123923783606, 'top_prep_count_3gram'), (0.052181121931099271, 'zero_ngram_rank'), (0.051995563635476465, 'avg_rank_position_0'), (0.037509164154711512, 'beside'), (0.036750462925399498, 'avg_rank_3gram'), (0.022938680466329919, 'VBprev'), (0.019527295134283487, 'about'), (0.016500242656159021, 'DTprev'), (0.014687126075089301, 'OTHERnext'), (0.014512391195373038, 'NNnext'), (0.013606468279297292, 'OTHERprev'), (0.012494890769901276, 'behind'), (0.010536097207288063, 'VBnext'), (0.010418438436185956, 'JJnext'), (0.0092494756654271145, 'NNprev'), (0.0088468554574489232, 'through'), (0.0086845939934425982, 'from'), (0.0072826530983209547, 'by'), (0.0061263326164651879, 'RBnext'), (0.0053758236103854627, 'JJprev'), (0.0045840492430074013, 'upon'), (0.0044952979061234277, 'along'), (0.0038770521171338562, 'absent'), (0.0030946547585488471, 'before'), (0.0022462866408951465, 'except'), (0.0021954879086599588, 'avg_rank_position_-1'), (0.0019940700897315808, 'RBprev'), (0.0018270690588422928, 'despite'), (0.0015329139825996099, 'on'), (0.0015031289508637372, 'DTnext'), (0.0014501614426782408, 'outside'), (0.0010691868349536539, 'alongside'), (0.0010595085399976408, 'with'), (0.00097849274660397946, 'avg_rank_position_1'), (0.00091617225959738638, 'above'), (0.00079331109023360411, 'since'), (0.0006651503868750115, 'onto'), (0.00058849665036884589, 'beyond'), (0.00058598916958530411, 'for'), (0.00050268443144734713, 'in'), (0.00049366925293570306, 'under'), (0.00046378312429822774, 'amid'), (0.00045115567162040145, 'at'), (0.00038457723848611778, 'towards'), (0.00035231791519699208, 'after'), (0.00033769461342950731, 'across'), (0.00026561144812451613, 'over'), (0.0002496930135872748, 'besides'), (0.0002483558379908872, 'until'), (0.00023922403478068261, 'to'), (0.00023374914846568427, 'against'), (0.00020859190808858138, 'among'), (0.00019006184583790172, 'during'), (0.00013315904745060705, 'than'), (0.00011387361308619622, 'inside'), (8.1809303750917853e-05, 'of'), (7.7757083123211989e-05, 'amongst'), (6.4129070443688353e-05, 'below'), (5.9818059226301681e-05, 'toward'), (5.6208951296956357e-05, 'opposite'), (5.331429486285621e-05, 'beneath'), (4.4031079321906315e-05, 'around'), (3.8778345378372095e-05, 'underneath'), (3.8733879490199374e-05, 'into'), (2.8785695767480722e-05, 'between'), (2.1757986831631465e-05, 'avg_rank_2gram'), (2.1337598367553236e-05, 'off'), (1.7624026242653639e-05, 'avg_pmi_2gram'), (1.289168564276053e-05, 'but'), (0.0, 'has_zero_ngram_2_or_3'), (0.0, 'top_prep_count_2gram'), (0.0, 'PRprev'), (0.0, 'PRnext')]"
       ]
      },
      {
       "output_type": "stream",
       "stream": "stdout",
       "text": [
        "\n",
        "Validating...\n",
        "Total errors: 152"
       ]
      },
      {
       "output_type": "stream",
       "stream": "stdout",
       "text": [
        "\n",
        "{'f1': 0.030107526881720435, 'false': 764, 'min_split': 2, 'true_err': 14, 'precision': 0.017994858611825194, 'skips': 1001, 'false_err': 35, 'true': 1180, 'recall': 0.09210526315789473, 'depth': None, 'skips_err': 103, 'accuracy': 0.6069958847736625}"
       ]
      },
      {
       "output_type": "stream",
       "stream": "stdout",
       "text": [
        "\n",
        "Balancing errors\n",
        "Generating features from raw data"
       ]
      },
      {
       "output_type": "stream",
       "stream": "stdout",
       "text": [
        "\n"
       ]
      },
      {
       "output_type": "stream",
       "stream": "stdout",
       "text": [
        "Started data loading: 12:17:21\n",
        "Finish data loading: 12:22:02"
       ]
      },
      {
       "output_type": "stream",
       "stream": "stdout",
       "text": [
        "\n",
        "Converting to numpy arrays\n",
        "(290913, 75)"
       ]
      },
      {
       "output_type": "stream",
       "stream": "stdout",
       "text": [
        "\n",
        "(290913,)\n",
        "('1st class', 5937)\n",
        "('2nd class', 284976)\n",
        "Fitting...\n",
        "[(0.29741518628869135, 'conf_matrix_score'), (0.1981238219371928, 'avg_pmi_3gram'), (0.10326203651101774, 'top_prep_count_3gram'), (0.054905406038006858, 'zero_ngram_rank'), (0.050817394115195931, 'avg_rank_position_0'), (0.036955881102988697, 'beside'), (0.034398048235323907, 'avg_rank_3gram'), (0.020479654233710766, 'VBprev'), (0.019329961222871811, 'about'), (0.018199899780223596, 'DTprev'), (0.014856604071740255, 'OTHERprev'), (0.014295692948471357, 'OTHERnext'), (0.0137511288792288, 'NNnext'), (0.012691549997626277, 'behind'), (0.010462789439207552, 'JJnext'), (0.010435303254557615, 'NNprev'), (0.0091789866042686161, 'VBnext'), (0.0090752421787503885, 'through'), (0.0089653288218251061, 'from'), (0.007371001955559852, 'by'), (0.0063146942310623923, 'RBnext'), (0.0055990529849553631, 'JJprev'), (0.0051669037055095254, 'upon'), (0.0044543256279461207, 'along'), (0.0040896422028036186, 'absent'), (0.0030197505182298395, 'before'), (0.0027762950559979877, 'except'), (0.0023509271637757265, 'avg_rank_position_-1'), (0.0019246998344616794, 'on'), (0.0018769826055008943, 'RBprev'), (0.0018042111819211984, 'despite'), (0.0016265865416341476, 'DTnext'), (0.0013899257030916168, 'outside'), (0.0010078295338244495, 'avg_rank_position_1'), (0.0009973386241995336, 'alongside'), (0.00096709214875515177, 'beyond'), (0.00092046463252344992, 'since'), (0.00082529484604864202, 'above'), (0.00081721711221709875, 'with'), (0.00066139057964689492, 'in'), (0.00058388764536884468, 'towards'), (0.00053513124107469623, 'onto'), (0.0004692791203534797, 'amid'), (0.00045735835944100723, 'under'), (0.0004395677237604412, 'for'), (0.00042853213019541675, 'across'), (0.00042710467408159765, 'after'), (0.00032926723282201585, 'inside'), (0.000320721744537621, 'until'), (0.00030394752749773315, 'at'), (0.00029751813814849523, 'against'), (0.00024080572377352559, 'among'), (0.00020809283728833103, 'besides'), (0.00019776645956182823, 'over'), (0.00017745276553488836, 'to'), (0.00013086261072145093, 'than'), (0.00011343833145805213, 'opposite'), (0.00010844192339866881, 'during'), (0.00010108106004771118, 'between'), (9.8991879266271569e-05, 'of'), (7.0216934983197845e-05, 'amongst'), (6.6448618166193389e-05, 'below'), (6.2299486848857474e-05, 'underneath'), (5.4032256792303317e-05, 'into'), (4.3911513719376161e-05, 'toward'), (4.3138006954834237e-05, 'beneath'), (3.8666228817499825e-05, 'around'), (2.9418643119822325e-05, 'but'), (2.1760133767543864e-05, 'off'), (2.1186033107422013e-05, 'avg_pmi_2gram'), (1.8130564826212976e-05, 'avg_rank_2gram'), (0.0, 'has_zero_ngram_2_or_3'), (0.0, 'top_prep_count_2gram'), (0.0, 'PRprev'), (0.0, 'PRnext')]"
       ]
      },
      {
       "output_type": "stream",
       "stream": "stdout",
       "text": [
        "\n",
        "Validating...\n",
        "Total errors: 152"
       ]
      },
      {
       "output_type": "stream",
       "stream": "stdout",
       "text": [
        "\n",
        "{'f1': 0.017057569296375266, 'false': 778, 'min_split': 2, 'true_err': 8, 'precision': 0.010178117048346057, 'skips': 987, 'false_err': 43, 'true': 1180, 'recall': 0.05263157894736842, 'depth': None, 'skips_err': 101, 'accuracy': 0.6026557711950971}"
       ]
      },
      {
       "output_type": "stream",
       "stream": "stdout",
       "text": [
        "\n",
        "Balancing errors\n",
        "Generating features from raw data"
       ]
      },
      {
       "output_type": "stream",
       "stream": "stdout",
       "text": [
        "\n"
       ]
      },
      {
       "output_type": "stream",
       "stream": "stdout",
       "text": [
        "Started data loading: 12:29:45\n",
        "Finish data loading: 12:33:03"
       ]
      },
      {
       "output_type": "stream",
       "stream": "stdout",
       "text": [
        "\n",
        "Converting to numpy arrays\n",
        "(290913, 75)"
       ]
      },
      {
       "output_type": "stream",
       "stream": "stdout",
       "text": [
        "\n",
        "(290913,)\n",
        "('1st class', 5937)\n",
        "('2nd class', 284976)\n",
        "Fitting...\n",
        "[(0.29592059001473275, 'conf_matrix_score'), (0.19741125851398439, 'avg_pmi_3gram'), (0.1048775036662357, 'top_prep_count_3gram'), (0.056049969155221799, 'zero_ngram_rank'), (0.048523366802331228, 'avg_rank_position_0'), (0.037796411474470777, 'avg_rank_3gram'), (0.034695026804962288, 'beside'), (0.025281779851893504, 'VBprev'), (0.019615308856353809, 'about'), (0.017316591110797305, 'DTprev'), (0.014371051421312677, 'OTHERnext'), (0.01379038047359432, 'NNnext'), (0.013241595591516435, 'OTHERprev'), (0.011908844932021932, 'behind'), (0.0099045499990660507, 'VBnext'), (0.0097235463701136303, 'NNprev'), (0.0093799877724386419, 'JJnext'), (0.0087854007171020605, 'from'), (0.0085116010649422189, 'through'), (0.0073668550015783141, 'by'), (0.0060976601649809937, 'RBnext'), (0.005357423780985443, 'JJprev'), (0.0047699878115367985, 'along'), (0.0046941853850439924, 'upon'), (0.0038964350511875205, 'absent'), (0.0035236575978660934, 'before'), (0.002528129906611633, 'avg_rank_position_-1'), (0.0022816521349896856, 'except'), (0.0020328910815838493, 'despite'), (0.0018782527447496666, 'DTnext'), (0.0017478040568011152, 'RBprev'), (0.0016112191835547204, 'on'), (0.001519366034626723, 'alongside'), (0.0014754162852910991, 'outside'), (0.0011919336161201602, 'beyond'), (0.0010584030339038, 'above'), (0.001045935337268412, 'avg_rank_position_1'), (0.0010300064251643306, 'with'), (0.00079845152227524903, 'since'), (0.00078998431293460019, 'in'), (0.00059346363011364824, 'onto'), (0.00049520145639361649, 'after'), (0.00048541320255995343, 'amid'), (0.00047090268820161927, 'towards'), (0.00041059927240106106, 'for'), (0.00037494391777672368, 'besides'), (0.000359472986098753, 'under'), (0.00032697338892878657, 'at'), (0.00031113718733192613, 'across'), (0.00025615775942084378, 'against'), (0.00024481437394317763, 'until'), (0.00024471354182190594, 'among'), (0.00024457307893547376, 'over'), (0.00021355874782052477, 'inside'), (0.00016213842708950562, 'to'), (0.00014710614628650806, 'of'), (0.00013926509754655904, 'than'), (0.00011771473646819833, 'underneath'), (9.9859520649201602e-05, 'around'), (8.6791397026024473e-05, 'during'), (5.9239260365191145e-05, 'opposite'), (5.8016645041228122e-05, 'toward'), (5.5185557516183895e-05, 'below'), (4.1375222142648273e-05, 'into'), (3.8397145383298667e-05, 'avg_pmi_2gram'), (3.5695049041329621e-05, 'beneath'), (3.4769566415617214e-05, 'amongst'), (2.5006940276686411e-05, 'avg_rank_2gram'), (2.4974066261276012e-05, 'between'), (2.3940798988806724e-05, 'but'), (1.8184129607935489e-05, 'off'), (0.0, 'has_zero_ngram_2_or_3'), (0.0, 'top_prep_count_2gram'), (0.0, 'PRprev'), (0.0, 'PRnext')]"
       ]
      },
      {
       "output_type": "stream",
       "stream": "stdout",
       "text": [
        "\n",
        "Validating...\n",
        "Total errors: 152"
       ]
      },
      {
       "output_type": "stream",
       "stream": "stdout",
       "text": [
        "\n",
        "{'f1': 0.024663677130044845, 'false': 729, 'min_split': 2, 'true_err': 11, 'precision': 0.014864864864864866, 'skips': 973, 'false_err': 43, 'true': 1243, 'recall': 0.07236842105263158, 'depth': None, 'skips_err': 98, 'accuracy': 0.6303245436105477}"
       ]
      },
      {
       "output_type": "stream",
       "stream": "stdout",
       "text": [
        "\n",
        "Balancing errors\n",
        "Generating features from raw data"
       ]
      },
      {
       "output_type": "stream",
       "stream": "stdout",
       "text": [
        "\n"
       ]
      },
      {
       "output_type": "stream",
       "stream": "stdout",
       "text": [
        "Started data loading: 12:40:44\n",
        "Finish data loading: 12:51:49"
       ]
      },
      {
       "output_type": "stream",
       "stream": "stdout",
       "text": [
        "\n",
        "Converting to numpy arrays\n",
        "(290913, 75)"
       ]
      },
      {
       "output_type": "stream",
       "stream": "stdout",
       "text": [
        "\n",
        "(290913,)\n",
        "('1st class', 5937)\n",
        "('2nd class', 284976)\n",
        "Fitting..."
       ]
      },
      {
       "output_type": "stream",
       "stream": "stdout",
       "text": [
        "\n",
        "[(0.29680538878024076, 'conf_matrix_score'), (0.19922343026754988, 'avg_pmi_3gram'), (0.10655752660253542, 'top_prep_count_3gram'), (0.052494260774434774, 'avg_rank_position_0'), (0.050896465474124374, 'zero_ngram_rank'), (0.035488727653175012, 'avg_rank_3gram'), (0.03418176704459977, 'beside'), (0.022845267764653593, 'VBprev'), (0.020261534450267408, 'about'), (0.019392457171692287, 'DTprev'), (0.014083561871478838, 'OTHERnext'), (0.013979487436533586, 'OTHERprev'), (0.013741408321403015, 'NNnext'), (0.012374453312639234, 'behind'), (0.010228107914789376, 'JJnext'), (0.009783076959167341, 'NNprev'), (0.0094965015390413871, 'VBnext'), (0.009378183814686334, 'from'), (0.0087484796787907423, 'through'), (0.0072319471473922224, 'by'), (0.005814646984935958, 'RBnext'), (0.0054959632545447338, 'JJprev'), (0.0048289852570373541, 'along'), (0.0043160209907301961, 'upon'), (0.0042502426509818947, 'absent'), (0.0030582467446800122, 'before'), (0.0024543067493946668, 'except'), (0.0022964107766160736, 'avg_rank_position_-1'), (0.0019041683839621697, 'despite'), (0.0018560755696755244, 'RBprev'), (0.0014258442592564589, 'outside'), (0.0014207749479207543, 'on'), (0.0013610284410232208, 'DTnext'), (0.0010755462671246897, 'avg_rank_position_1'), (0.0010434629892412289, 'alongside'), (0.00090615926047205074, 'beyond'), (0.00068887190499559168, 'since'), (0.00066470849281451572, 'above'), (0.00064481752237253802, 'onto'), (0.00063849544889780661, 'with'), (0.00062601895698505402, 'in'), (0.00057561909768062941, 'for'), (0.0005198738014371661, 'inside'), (0.00050679183352001476, 'towards'), (0.00047966682880228132, 'after'), (0.00044670710951944567, 'amid'), (0.00038890093746570399, 'across'), (0.00033646721187524458, 'besides'), (0.00031916484751889413, 'under'), (0.00029224284021234074, 'to'), (0.00027974543965865006, 'until'), (0.00025380824400242905, 'over'), (0.00023127119677191613, 'at'), (0.00020337941801570056, 'among'), (0.00019895513775391126, 'against'), (0.00019176861671323122, 'than'), (9.2323207788559027e-05, 'during'), (8.9341731621866847e-05, 'around'), (7.4589943586059196e-05, 'below'), (7.2849159096156164e-05, 'of'), (6.6269160393087184e-05, 'amongst'), (5.9680948638737182e-05, 'underneath'), (5.5953903828402228e-05, 'beneath'), (4.8526439245832905e-05, 'into'), (4.7908368040067128e-05, 'toward'), (4.1446829244818194e-05, 'avg_rank_2gram'), (3.9696279706552144e-05, 'avg_pmi_2gram'), (3.3738389042385473e-05, 'opposite'), (3.2447910013764867e-05, 'off'), (3.2024320996065236e-05, 'between'), (2.6011014952197184e-05, 'but'), (0.0, 'has_zero_ngram_2_or_3'), (0.0, 'top_prep_count_2gram'), (0.0, 'PRprev'), (0.0, 'PRnext')]"
       ]
      },
      {
       "output_type": "stream",
       "stream": "stdout",
       "text": [
        "\n",
        "Validating...\n",
        "Total errors: 152"
       ]
      },
      {
       "output_type": "stream",
       "stream": "stdout",
       "text": [
        "\n",
        "{'f1': 0.024336283185840708, 'false': 741, 'min_split': 2, 'true_err': 11, 'precision': 0.014627659574468085, 'skips': 989, 'false_err': 40, 'true': 1215, 'recall': 0.07236842105263158, 'depth': None, 'skips_err': 101, 'accuracy': 0.6211656441717791}"
       ]
      },
      {
       "output_type": "stream",
       "stream": "stdout",
       "text": [
        "\n",
        "Balancing errors\n",
        "Generating features from raw data"
       ]
      },
      {
       "output_type": "stream",
       "stream": "stdout",
       "text": [
        "\n"
       ]
      }
     ]
    },
    {
     "cell_type": "markdown",
     "metadata": {},
     "source": [
      "# Plotting decision tree (example)"
     ]
    },
    {
     "cell_type": "code",
     "collapsed": false,
     "input": [
      "from IPython.display import Image #needed to render in notebook\n",
      "import StringIO, pydot  #needed to convert dot format to png\n",
      "clf = DecisionTreeClassifier(max_depth=5, min_samples_leaf=10)\n",
      "train_col, train_labels = balance(data, labels)\n",
      "clf.fit(train_col, train_labels)\n",
      "dot_data = StringIO.StringIO()\n",
      "export_graphviz(clf, out_file=dot_data, feature_names=feature_names) \n",
      "graph = pydot.graph_from_dot_data(dot_data.getvalue())\n",
      "Image(graph.create_png())"
     ],
     "language": "python",
     "metadata": {},
     "outputs": []
    },
    {
     "cell_type": "code",
     "collapsed": false,
     "input": [],
     "language": "python",
     "metadata": {},
     "outputs": []
    }
   ],
   "metadata": {}
  }
 ]
}