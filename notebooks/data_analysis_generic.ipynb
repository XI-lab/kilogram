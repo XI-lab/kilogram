{
 "metadata": {
  "name": "",
  "signature": "sha256:d3f31be21a4f121a4445ac0b7377ddd6fab02cf2f80061cf1213a5712106cb97"
 },
 "nbformat": 3,
 "nbformat_minor": 0,
 "worksheets": [
  {
   "cells": [
    {
     "cell_type": "markdown",
     "metadata": {},
     "source": [
      "<small><i>This notebook was put together by [Roman Prokofyev](http://prokofyev.ch)@[eXascale Infolab](http://exascale.info/). Source and license info is on [GitHub](https://github.com/dragoon/kilogram/).</i></small>"
     ]
    },
    {
     "cell_type": "markdown",
     "metadata": {},
     "source": [
      "<small>\n",
      "This notebook is a part of bigger tutorial on fixing grammatical edits.\n",
      "\n",
      "* [Part 1: Extracting edits from StackExchange Data](http://nbviewer.ipython.org/github/dragoon/dataset-utils/blob/master/notebooks/stackexchange_edit_extraction.ipynb)\n",
      "* [Part 2: Processing Google Book N-grams dataset](http://nbviewer.ipython.org/github/dragoon/kilogram/blob/master/notebooks/process_google_ngrams.ipynb)\n",
      "* [Part 3: Computing association measures between words](http://nbviewer.ipython.org/github/dragoon/kilogram/blob/master/notebooks/pmi_association_measures.ipynb)\n",
      "* **[Part 4: Generic data analysis](http://nbviewer.ipython.org/github/dragoon/kilogram/blob/master/notebooks/data_analysis_generic.ipynb)**\n",
      "* [Part 5: Machine learning to fix grammar](http://nbviewer.ipython.org/github/dragoon/kilogram/blob/master/notebooks/ml_grammar.ipynb)\n",
      "</small>"
     ]
    },
    {
     "cell_type": "markdown",
     "metadata": {},
     "source": [
      "# Prerequisites\n",
      "\n",
      "You will need to install the following python packages to run the notebook:\n",
      "\n",
      "* pip install nltk\n",
      "* pip install pandas\n",
      "* pip install -U https://github.com/dragoon/kilogram/zipball/master\n",
      "\n",
      "We will also do some plotting in this notebook, here are some preparations:"
     ]
    },
    {
     "cell_type": "code",
     "collapsed": false,
     "input": [
      "from __future__ import division\n",
      "from collections import defaultdict\n",
      "import matplotlib.pyplot as plt\n",
      "from mpltools import style\n",
      "style.use('ggplot')\n",
      "%matplotlib inline"
     ],
     "language": "python",
     "metadata": {},
     "outputs": [],
     "prompt_number": 1
    },
    {
     "cell_type": "markdown",
     "metadata": {},
     "source": [
      "# Step 0: Downloading FCE exam collection\n",
      "\n",
      "In this notebook we will work with a standard **First Certificate of English (FCE)** exam collection.\n",
      "This corpus can be downloaded from: http://ilexir.co.uk/media/fce-released-dataset.zip. \n",
      "The detailed information on this corpus can be found in the following paper: http://ucrel.lancs.ac.uk/publications/cl2003/papers/nicholls.pdf\n",
      "\n",
      "We can also process this dataset using **dataset-utils** library:"
     ]
    },
    {
     "cell_type": "code",
     "collapsed": false,
     "input": [
      "import subprocess\n",
      "print subprocess.check_output(\"fce_parse_edit_history.py -o /home/roman/fce_edits.tsv /home/roman/fce-released-dataset.zip; exit 0\",\n",
      "                              shell=True, stderr=subprocess.STDOUT)"
     ],
     "language": "python",
     "metadata": {},
     "outputs": [
      {
       "output_type": "stream",
       "stream": "stdout",
       "text": [
        "\n"
       ]
      }
     ],
     "prompt_number": 2
    },
    {
     "cell_type": "markdown",
     "metadata": {},
     "source": [
      "# Step 1: Extracting edits of prepositions\n",
      "Extract all edits from the FCE collections and keep only prepositions:"
     ]
    },
    {
     "cell_type": "code",
     "collapsed": false,
     "input": [
      "from kilogram import extract_edits\n",
      "edits = extract_edits('/home/roman/fce_edits.tsv')\n",
      "PREPS_1GRAM = set(open('../extra/preps.txt').read().split('\\n'))\n",
      "prep_edits = [x for x in edits if x.edit1.lower() in PREPS_1GRAM and x.edit2.lower() in PREPS_1GRAM]\n",
      "del edits\n",
      "\n",
      "print 'Preposition edits:', len(prep_edits)"
     ],
     "language": "python",
     "metadata": {},
     "outputs": [
      {
       "output_type": "stream",
       "stream": "stdout",
       "text": [
        "Total edits extracted: 37753\n",
        "Preposition edits:"
       ]
      },
      {
       "output_type": "stream",
       "stream": "stdout",
       "text": [
        " 2214\n"
       ]
      }
     ],
     "prompt_number": 3
    },
    {
     "cell_type": "markdown",
     "metadata": {},
     "source": [
      "Next we extract all prepositions from the dataset:"
     ]
    },
    {
     "cell_type": "code",
     "collapsed": false,
     "input": [
      "from kilogram import extract_filtered\n",
      "# Need to lower if in the beginning of a sentence\n",
      "filter_func = lambda x: x[0].lower()+x[1:] in PREPS_1GRAM\n",
      "all_preps = extract_filtered('/home/roman/fce_edits.tsv', filter_func)\n",
      "print 'Percentage preposition replaces: {0:.2f}%'.format(len(prep_edits)/len(all_preps)*100)"
     ],
     "language": "python",
     "metadata": {},
     "outputs": [
      {
       "output_type": "stream",
       "stream": "stdout",
       "text": [
        "Total edits extracted: 61053\n",
        "Percentage preposition replaces: 3.63%\n"
       ]
      }
     ],
     "prompt_number": 4
    },
    {
     "cell_type": "markdown",
     "metadata": {},
     "source": [
      "# Step 2: Analyzing numeric patterns\n",
      "\n",
      "While exploring the data, we have noticed that many prepositions occur close to linguistic constructs representing *times, dates, percentages*, etc.\n",
      "For example, in a phrase\n",
      "> the starting time has been changed from 19:30 to 20:15.\n",
      "\n",
      "we have two constucts representing time of the day. Usually such constructs are called *named entities*.\n",
      "Unfortunately, these entities occur very rarely in our n-gram counts corpus, if occur at all. This is due to the large space of possibile numbers, especially float ones. More appealing choice would be to replace numeric entities with some placeholders, both in text and in the n-gram counts corpus.\n",
      "\n",
      "In the **kilogram** library there exists a ``number_replace`` function which tests if a token from text represents one of the predefined numeric entities. Currently this function tries to resolve the following numeric entities:\n",
      "\n",
      "* Times, including am/pm variations;\n",
      "* Volumes/areas\n",
      "* Percentages;\n",
      "* Integers\n",
      "* Generic numbers;\n",
      "\n",
      "Let's first check how many numeric entities do we have in a proximity of prepositions, and how often people do errors in those prepositions:"
     ]
    },
    {
     "cell_type": "code",
     "collapsed": false,
     "input": [
      "from kilogram.lang import number_replace\n",
      "def get_num_distributions(edits):\n",
      "    number_positions = 0\n",
      "    for prep_edit in edits:\n",
      "        for i, token in zip(range(-2,3), prep_edit.context(2)):\n",
      "            if i != 0:\n",
      "                token1 = number_replace(token)\n",
      "                if token1 != token:\n",
      "                    number_positions += 1\n",
      "    return number_positions\n",
      "\n",
      "all_numeric = get_num_distributions(all_preps)\n",
      "error_numeric = get_num_distributions(prep_edits)\n",
      "print 'Numeric + all prepositions:', all_numeric\n",
      "print 'Numeric + erroneus prepositions:', error_numeric\n",
      "print 'Percentage numeric errors of all numeric: {0:.2f}%'.format(error_numeric/all_numeric*100)\n",
      "print 'Percentage numeric errors of all errors: {0:.2f}%'.format(error_numeric/len(prep_edits)*100)"
     ],
     "language": "python",
     "metadata": {},
     "outputs": [
      {
       "output_type": "stream",
       "stream": "stdout",
       "text": [
        "Numeric + all prepositions: 2213\n",
        "Numeric + erroneus prepositions: 60\n",
        "Percentage numeric errors of all numeric: 2.71%\n",
        "Percentage numeric errors of all errors: 2.71%\n"
       ]
      }
     ],
     "prompt_number": 5
    },
    {
     "cell_type": "markdown",
     "metadata": {},
     "source": [
      "We can see that despite being very low, the preposition errors close to numeric entities can still contribute to a better results if taken into account.\n",
      "\n",
      "We can further investigate the data and calculate proportions per numberic entity type and per distance to a preposition:"
     ]
    },
    {
     "cell_type": "code",
     "collapsed": false,
     "input": [
      "def get_num_distributions(edits):\n",
      "    number_positions_dist = defaultdict(lambda: 0)\n",
      "    number_type_dist = defaultdict(lambda: 0)\n",
      "    for prep_edit in edits:\n",
      "        for i, token in zip(range(-2,3), prep_edit.context(2)):\n",
      "            if i != 0:\n",
      "                token1 = number_replace(token)\n",
      "                if token1 != token:\n",
      "                    number_positions_dist[i] += 1\n",
      "                    number_type_dist[token1] += 1\n",
      "    return number_positions_dist, number_type_dist\n",
      "\n",
      "number_positions_dist, number_type_dist = get_num_distributions(all_preps)\n",
      "e_number_positions_dist, e_number_type_dist = get_num_distributions(prep_edits)\n",
      "\n",
      "fig = plt.figure(figsize=(9,5))\n",
      "plt.bar(*zip(*number_positions_dist.items()), align='center', log=True)\n",
      "plt.bar(*zip(*e_number_positions_dist.items()), align='center', color='y')\n",
      "number_type_data = sorted(number_type_dist.items(), key=lambda x: x[1], reverse=True)[:12]\n",
      "categories, values = zip(*number_type_data)\n",
      "e_values = [e_number_type_dist.get(category, 0) for category in categories]\n",
      "fig = plt.figure(figsize=(18,5))\n",
      "plt.bar(range(len(categories)), values, align='center', log=True)\n",
      "plt.bar(range(len(categories)), e_values, align='center', color='y')\n",
      "plt.xticks(range(len(categories)), categories)\n",
      "print 'Done'"
     ],
     "language": "python",
     "metadata": {},
     "outputs": [
      {
       "output_type": "stream",
       "stream": "stdout",
       "text": [
        "Done\n"
       ]
      },
      {
       "metadata": {},
       "output_type": "display_data",
       "png": "[encoded data removed]",
       "text": [
        "<matplotlib.figure.Figure at 0x1d284510>"
       ]
      },
      {
       "metadata": {},
       "output_type": "display_data",
       "png": "[encoded data removed]",
       "text": [
        "<matplotlib.figure.Figure at 0x1d296810>"
       ]
      }
     ],
     "prompt_number": 6
    },
    {
     "cell_type": "markdown",
     "metadata": {},
     "source": [
      "# Step 3: Central n-grams with zero counts\n",
      "\n",
      "Now that we have looked at a specific solution to address rare n-grams in case of numeric entities, let's look more closer to n-grams with **zero counts**. May be we will be able to isolate other generic n-gram classes.\n",
      "\n",
      "First configure n-gram backend service as in the previois part:"
     ]
    },
    {
     "cell_type": "code",
     "collapsed": false,
     "input": [
      "from kilogram import NgramService\n",
      "NgramService.configure(PREPS_1GRAM, mongo_host=('localhost', '27017'), hbase_host=(\"diufpc301\", \"9090\"))"
     ],
     "language": "python",
     "metadata": {},
     "outputs": [],
     "prompt_number": 7
    },
    {
     "cell_type": "markdown",
     "metadata": {},
     "source": [
      "Next we process first 1000 n-grams and see which ones have zero counts:"
     ]
    },
    {
     "cell_type": "code",
     "collapsed": false,
     "input": [
      "for prep_edit in all_preps[:1000]:\n",
      "    central_ngram = prep_edit.ngram_context(fill=False)[3][1]\n",
      "    if central_ngram:\n",
      "        # lowercase n-gram since we lowercased our n-gram counts, also number_replace\n",
      "        central_ngram.ngram = [number_replace(x.lower()) for x in central_ngram.ngram]\n",
      "        assoc = central_ngram.association()\n",
      "        if len(assoc) == 0:\n",
      "            print central_ngram"
     ],
     "language": "python",
     "metadata": {},
     "outputs": [
      {
       "output_type": "stream",
       "stream": "stdout",
       "text": [
        "advertisement but then\n",
        "something about marion's"
       ]
      },
      {
       "output_type": "stream",
       "stream": "stdout",
       "text": [
        "\n",
        "talk about marion's"
       ]
      },
      {
       "output_type": "stream",
       "stream": "stdout",
       "text": [
        "\n",
        "forgot about marion's\n",
        "birthday about how"
       ]
      },
      {
       "output_type": "stream",
       "stream": "stdout",
       "text": [
        "\n",
        "learnt about guns"
       ]
      },
      {
       "output_type": "stream",
       "stream": "stdout",
       "text": [
        "\n",
        "anna to sell"
       ]
      },
      {
       "output_type": "stream",
       "stream": "stdout",
       "text": [
        "\n",
        "friends by destroying\n",
        "wasn't at all"
       ]
      },
      {
       "output_type": "stream",
       "stream": "stdout",
       "text": [
        "\n",
        "pat since we"
       ]
      },
      {
       "output_type": "stream",
       "stream": "stdout",
       "text": [
        "\n",
        "! with all"
       ]
      },
      {
       "output_type": "stream",
       "stream": "stdout",
       "text": [
        "\n",
        "ticket for students"
       ]
      },
      {
       "output_type": "stream",
       "stream": "stdout",
       "text": [
        "\n",
        "fan of danny"
       ]
      },
      {
       "output_type": "stream",
       "stream": "stdout",
       "text": [
        "\n",
        "closed for decoration"
       ]
      },
      {
       "output_type": "stream",
       "stream": "stdout",
       "text": [
        "\n",
        "e-mails to my"
       ]
      },
      {
       "output_type": "stream",
       "stream": "stdout",
       "text": [
        "\n",
        "performance of danny"
       ]
      },
      {
       "output_type": "stream",
       "stream": "stdout",
       "text": [
        "\n",
        "pat for keeping"
       ]
      },
      {
       "output_type": "stream",
       "stream": "stdout",
       "text": [
        "\n",
        "truelove but there"
       ]
      },
      {
       "output_type": "stream",
       "stream": "stdout",
       "text": [
        "\n",
        "friend by e-mail"
       ]
      },
      {
       "output_type": "stream",
       "stream": "stdout",
       "text": [
        "\n",
        "supermarket by only"
       ]
      },
      {
       "output_type": "stream",
       "stream": "stdout",
       "text": [
        "\n",
        "atrophided of all"
       ]
      },
      {
       "output_type": "stream",
       "stream": "stdout",
       "text": [
        "\n",
        "tv by pressing\n",
        "weren't at all"
       ]
      },
      {
       "output_type": "stream",
       "stream": "stdout",
       "text": [
        "\n",
        "wasn't at all"
       ]
      },
      {
       "output_type": "stream",
       "stream": "stdout",
       "text": [
        "\n",
        "role in people's"
       ]
      },
      {
       "output_type": "stream",
       "stream": "stdout",
       "text": [
        "\n",
        "beach with pat"
       ]
      },
      {
       "output_type": "stream",
       "stream": "stdout",
       "text": [
        "\n"
       ]
      }
     ],
     "prompt_number": 8
    },
    {
     "cell_type": "markdown",
     "metadata": {},
     "source": [
      "Observing the output, we can extract the following n-gram classes:\n",
      "\n",
      "* Normal n-grams, such as \"advertisement but then\" and \"learnt about guns\", which just happen to have zero counts.\n",
      "* N-grams containing names of persons, such as \"forgot about marion's\" or names of places, or, more generally, other **named entities**.\n",
      "\n",
      "Again, we probably want to replace those entities with some placeholders, but this time it's much more difficult than with numeric entities. In order to recognize them, we will have to employ advances tools such as [Stanford NER](http://nlp.stanford.edu/software/CRF-NER.shtml) or named entity chunker from **NLTK** library (http://www.nltk.org/book/ch07.html, Sec. 7.5)"
     ]
    }
   ],
   "metadata": {}
  }
 ]
}