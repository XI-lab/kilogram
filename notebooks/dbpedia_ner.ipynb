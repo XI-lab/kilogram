{
 "metadata": {
  "name": "",
  "signature": "sha256:b45892765a9b3ab0cb9817a896dd909d3e747aa4809673e6f1f375038f541cb1"
 },
 "nbformat": 3,
 "nbformat_minor": 0,
 "worksheets": [
  {
   "cells": [
    {
     "cell_type": "markdown",
     "metadata": {},
     "source": [
      "In this tutorial, we perform entity recognition based on the longest string match with the **label** and **wikiRedirects** properties. If more than one entity matches original string, we generate new n-grams **for each match** with original string replaced by canonical URL of entity.\n",
      "    \n",
      "    hdfs dfs -cat /user/roman/ngrams_dbpedia_counts/* > ngrams_dbpedia_counts"
     ]
    },
    {
     "cell_type": "code",
     "collapsed": false,
     "input": [],
     "language": "python",
     "metadata": {},
     "outputs": []
    }
   ],
   "metadata": {}
  }
 ]
}